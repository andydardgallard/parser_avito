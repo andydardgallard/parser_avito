{
 "cells": [
  {
   "cell_type": "code",
   "execution_count": 68,
   "metadata": {
    "collapsed": true
   },
   "outputs": [],
   "source": [
    "import requests\n",
    "from bs4 import BeautifulSoup\n",
    "from random import choice\n",
    "from time import sleep\n",
    "from random import  uniform"
   ]
  },
  {
   "cell_type": "code",
   "execution_count": 60,
   "metadata": {
    "collapsed": true
   },
   "outputs": [],
   "source": [
    "def get_html(url, useragent=None, proxy=None):\n",
    "    print 'get_html'\n",
    "    r = requests.get(url, headers=useragent, proxies=proxy)\n",
    "    return r.text"
   ]
  },
  {
   "cell_type": "code",
   "execution_count": 61,
   "metadata": {
    "collapsed": true
   },
   "outputs": [],
   "source": [
    "def get_ip(html):\n",
    "    print \"New Proxy & User-Agent\"\n",
    "    soup = BeautifulSoup(html, 'lxml')\n",
    "    ip=soup.find('span', class_='ip').text.strip()\n",
    "    ua=soup.find('span', class_='ip').find_next_sibling('span').text.strip()\n",
    "    print ip\n",
    "    print ua\n",
    "    print \"-------------------------\""
   ]
  },
  {
   "cell_type": "code",
   "execution_count": 69,
   "metadata": {
    "collapsed": true
   },
   "outputs": [],
   "source": [
    "def main():\n",
    "    url='http://sitespy.ru/my-ip'\n",
    "    \n",
    "    useragents=open('useragents.txt').read().split('\\n')\n",
    "    proxies=['61.5.207.102:80','120.52.73.173:80','200.35.153.195:8080','203.70.11.186:80','123.84.13.240:8118',\n",
    "         '149.202.34.104:3128','115.223.210.100:8118','223.19.212.30:80','113.252.236.96:8080','113.255.49.49:80',\n",
    "         '58.176.46.248:80','86.99.213.200:8118']\n",
    "    \n",
    "    \n",
    "    for i in range(10):\n",
    "        sleep(uniform(3,6))\n",
    "        print i\n",
    "        \n",
    "        proxy={'http': 'http://' + choice(proxies)}\n",
    "        useragent={'User-Agent': choice(useragents)}\n",
    "        try:\n",
    "            html=get_html(url, useragent, proxy)\n",
    "        except:\n",
    "            continue\n",
    "        \n",
    "        try:\n",
    "            get_ip(html)\n",
    "        except:\n",
    "            continue\n",
    "        \n",
    "    \n",
    "    \n",
    "    #url_prox='http://proxylist.hidemyass.com/search-1299627#listable'\n",
    "    #html_prox=get_html(url_prox)\n",
    "    #get_proxies(html_prox)"
   ]
  },
  {
   "cell_type": "code",
   "execution_count": 71,
   "metadata": {
    "collapsed": false
   },
   "outputs": [
    {
     "name": "stdout",
     "output_type": "stream",
     "text": [
      "0\n",
      "get_html\n",
      "New Proxy & User-Agent\n",
      "103.42.1.81\n",
      "User-Agent: Mozilla/5.0 (Windows NT 6.1; WOW64) AppleWebKit/537.36 (KHTML, like Gecko) Chrome/53.0.2785.101 Safari/537.36\n",
      "-------------------------\n",
      "1\n",
      "get_html\n",
      "New Proxy & User-Agent\n",
      "123.84.13.240\n",
      "User-Agent: Mozilla/5.0 (Windows NT 6.1) AppleWebKit/537.36 (KHTML, like Gecko) Chrome/41.0.2228.0 Safari/537.36\n",
      "-------------------------\n",
      "2\n",
      "get_html\n",
      "3\n",
      "get_html\n",
      "4\n",
      "get_html\n",
      "5\n",
      "get_html\n",
      "New Proxy & User-Agent\n",
      "6\n",
      "get_html\n",
      "7\n",
      "get_html\n",
      "New Proxy & User-Agent\n",
      "8\n",
      "get_html\n",
      "New Proxy & User-Agent\n",
      "223.19.212.30\n",
      "User-Agent: Mozilla/5.0 (X11; Linux x86_64) AppleWebKit/537.36 (KHTML, like Gecko) Chrome/53.0.2785.101 Safari/537.36\n",
      "-------------------------\n",
      "9\n",
      "get_html\n"
     ]
    }
   ],
   "source": [
    "if __name__ == '__main__':\n",
    "    main()"
   ]
  },
  {
   "cell_type": "code",
   "execution_count": null,
   "metadata": {
    "collapsed": true
   },
   "outputs": [],
   "source": []
  }
 ],
 "metadata": {
  "kernelspec": {
   "display_name": "Python [Root]",
   "language": "python",
   "name": "Python [Root]"
  },
  "language_info": {
   "codemirror_mode": {
    "name": "ipython",
    "version": 2
   },
   "file_extension": ".py",
   "mimetype": "text/x-python",
   "name": "python",
   "nbconvert_exporter": "python",
   "pygments_lexer": "ipython2",
   "version": "2.7.12"
  }
 },
 "nbformat": 4,
 "nbformat_minor": 0
}
